{
 "cells": [
  {
   "cell_type": "markdown",
   "metadata": {},
   "source": [
    "# Data overview\n",
    "XYZ coordinates given for detected VICON markers on five different hand postures. Notice that instances may have a varying number of data points. Detailed description of dataset can be found here http://www2.latech.edu/~jkanno/datadescription-1.pdf."
   ]
  },
  {
   "cell_type": "code",
   "execution_count": 1,
   "metadata": {
    "scrolled": false
   },
   "outputs": [
    {
     "data": {
      "text/html": [
       "<div>\n",
       "<style scoped>\n",
       "    .dataframe tbody tr th:only-of-type {\n",
       "        vertical-align: middle;\n",
       "    }\n",
       "\n",
       "    .dataframe tbody tr th {\n",
       "        vertical-align: top;\n",
       "    }\n",
       "\n",
       "    .dataframe thead th {\n",
       "        text-align: right;\n",
       "    }\n",
       "</style>\n",
       "<table border=\"1\" class=\"dataframe\">\n",
       "  <thead>\n",
       "    <tr style=\"text-align: right;\">\n",
       "      <th></th>\n",
       "      <th>Unnamed: 0</th>\n",
       "      <th>Class</th>\n",
       "      <th>User</th>\n",
       "      <th>X0</th>\n",
       "      <th>Y0</th>\n",
       "      <th>Z0</th>\n",
       "      <th>X1</th>\n",
       "      <th>Y1</th>\n",
       "      <th>Z1</th>\n",
       "      <th>X2</th>\n",
       "      <th>...</th>\n",
       "      <th>Z8</th>\n",
       "      <th>X9</th>\n",
       "      <th>Y9</th>\n",
       "      <th>Z9</th>\n",
       "      <th>X10</th>\n",
       "      <th>Y10</th>\n",
       "      <th>Z10</th>\n",
       "      <th>X11</th>\n",
       "      <th>Y11</th>\n",
       "      <th>Z11</th>\n",
       "    </tr>\n",
       "  </thead>\n",
       "  <tbody>\n",
       "    <tr>\n",
       "      <th>count</th>\n",
       "      <td>13500.000000</td>\n",
       "      <td>13500.000000</td>\n",
       "      <td>13500.000000</td>\n",
       "      <td>13500.000000</td>\n",
       "      <td>13500.000000</td>\n",
       "      <td>13500.000000</td>\n",
       "      <td>13500.000000</td>\n",
       "      <td>13500.000000</td>\n",
       "      <td>13500.000000</td>\n",
       "      <td>13500.000000</td>\n",
       "      <td>...</td>\n",
       "      <td>5733.000000</td>\n",
       "      <td>4537.000000</td>\n",
       "      <td>4537.000000</td>\n",
       "      <td>4537.000000</td>\n",
       "      <td>2482.000000</td>\n",
       "      <td>2482.000000</td>\n",
       "      <td>2482.000000</td>\n",
       "      <td>0.0</td>\n",
       "      <td>0.0</td>\n",
       "      <td>0.0</td>\n",
       "    </tr>\n",
       "    <tr>\n",
       "      <th>mean</th>\n",
       "      <td>27296.628370</td>\n",
       "      <td>3.025481</td>\n",
       "      <td>5.777778</td>\n",
       "      <td>52.698144</td>\n",
       "      <td>85.770524</td>\n",
       "      <td>-31.826014</td>\n",
       "      <td>52.351641</td>\n",
       "      <td>86.272265</td>\n",
       "      <td>-31.711906</td>\n",
       "      <td>52.112129</td>\n",
       "      <td>...</td>\n",
       "      <td>-28.776171</td>\n",
       "      <td>57.177513</td>\n",
       "      <td>83.183279</td>\n",
       "      <td>-28.576656</td>\n",
       "      <td>53.669544</td>\n",
       "      <td>77.761579</td>\n",
       "      <td>-29.641994</td>\n",
       "      <td>NaN</td>\n",
       "      <td>NaN</td>\n",
       "      <td>NaN</td>\n",
       "    </tr>\n",
       "    <tr>\n",
       "      <th>std</th>\n",
       "      <td>15051.282199</td>\n",
       "      <td>1.445896</td>\n",
       "      <td>3.823397</td>\n",
       "      <td>32.676394</td>\n",
       "      <td>40.715829</td>\n",
       "      <td>33.898217</td>\n",
       "      <td>32.353705</td>\n",
       "      <td>40.641751</td>\n",
       "      <td>34.163914</td>\n",
       "      <td>33.570688</td>\n",
       "      <td>...</td>\n",
       "      <td>35.921888</td>\n",
       "      <td>41.614585</td>\n",
       "      <td>43.932179</td>\n",
       "      <td>37.058562</td>\n",
       "      <td>40.719084</td>\n",
       "      <td>46.033896</td>\n",
       "      <td>42.029159</td>\n",
       "      <td>NaN</td>\n",
       "      <td>NaN</td>\n",
       "      <td>NaN</td>\n",
       "    </tr>\n",
       "    <tr>\n",
       "      <th>min</th>\n",
       "      <td>5.000000</td>\n",
       "      <td>1.000000</td>\n",
       "      <td>0.000000</td>\n",
       "      <td>-80.928512</td>\n",
       "      <td>-98.233756</td>\n",
       "      <td>-120.096446</td>\n",
       "      <td>-111.685241</td>\n",
       "      <td>-96.142589</td>\n",
       "      <td>-114.271334</td>\n",
       "      <td>-106.886524</td>\n",
       "      <td>...</td>\n",
       "      <td>-114.500502</td>\n",
       "      <td>-83.649652</td>\n",
       "      <td>-39.539982</td>\n",
       "      <td>-112.908778</td>\n",
       "      <td>-80.196289</td>\n",
       "      <td>-2.877761</td>\n",
       "      <td>-103.718071</td>\n",
       "      <td>NaN</td>\n",
       "      <td>NaN</td>\n",
       "      <td>NaN</td>\n",
       "    </tr>\n",
       "    <tr>\n",
       "      <th>25%</th>\n",
       "      <td>14897.500000</td>\n",
       "      <td>2.000000</td>\n",
       "      <td>2.000000</td>\n",
       "      <td>31.260337</td>\n",
       "      <td>60.571185</td>\n",
       "      <td>-58.246757</td>\n",
       "      <td>30.917769</td>\n",
       "      <td>62.849522</td>\n",
       "      <td>-59.477546</td>\n",
       "      <td>29.413095</td>\n",
       "      <td>...</td>\n",
       "      <td>-59.907133</td>\n",
       "      <td>27.634371</td>\n",
       "      <td>44.872205</td>\n",
       "      <td>-58.906215</td>\n",
       "      <td>14.298679</td>\n",
       "      <td>37.354595</td>\n",
       "      <td>-70.016161</td>\n",
       "      <td>NaN</td>\n",
       "      <td>NaN</td>\n",
       "      <td>NaN</td>\n",
       "    </tr>\n",
       "    <tr>\n",
       "      <th>50%</th>\n",
       "      <td>25943.000000</td>\n",
       "      <td>3.000000</td>\n",
       "      <td>6.000000</td>\n",
       "      <td>55.336918</td>\n",
       "      <td>87.314804</td>\n",
       "      <td>-31.697639</td>\n",
       "      <td>55.415571</td>\n",
       "      <td>88.220022</td>\n",
       "      <td>-31.292537</td>\n",
       "      <td>56.038056</td>\n",
       "      <td>...</td>\n",
       "      <td>-27.741830</td>\n",
       "      <td>63.516259</td>\n",
       "      <td>87.992227</td>\n",
       "      <td>-27.794790</td>\n",
       "      <td>62.781569</td>\n",
       "      <td>84.955399</td>\n",
       "      <td>-31.392546</td>\n",
       "      <td>NaN</td>\n",
       "      <td>NaN</td>\n",
       "      <td>NaN</td>\n",
       "    </tr>\n",
       "    <tr>\n",
       "      <th>75%</th>\n",
       "      <td>38387.500000</td>\n",
       "      <td>4.000000</td>\n",
       "      <td>9.000000</td>\n",
       "      <td>75.288905</td>\n",
       "      <td>106.228314</td>\n",
       "      <td>-5.744637</td>\n",
       "      <td>75.038670</td>\n",
       "      <td>109.185672</td>\n",
       "      <td>-4.650574</td>\n",
       "      <td>75.422747</td>\n",
       "      <td>...</td>\n",
       "      <td>0.410206</td>\n",
       "      <td>86.090881</td>\n",
       "      <td>126.478059</td>\n",
       "      <td>1.340623</td>\n",
       "      <td>84.088250</td>\n",
       "      <td>121.913529</td>\n",
       "      <td>6.843351</td>\n",
       "      <td>NaN</td>\n",
       "      <td>NaN</td>\n",
       "      <td>NaN</td>\n",
       "    </tr>\n",
       "    <tr>\n",
       "      <th>max</th>\n",
       "      <td>56980.000000</td>\n",
       "      <td>5.000000</td>\n",
       "      <td>11.000000</td>\n",
       "      <td>151.586035</td>\n",
       "      <td>168.717458</td>\n",
       "      <td>113.345119</td>\n",
       "      <td>151.271413</td>\n",
       "      <td>170.209350</td>\n",
       "      <td>104.618115</td>\n",
       "      <td>149.208278</td>\n",
       "      <td>...</td>\n",
       "      <td>119.213101</td>\n",
       "      <td>174.054403</td>\n",
       "      <td>167.196644</td>\n",
       "      <td>122.569627</td>\n",
       "      <td>149.486224</td>\n",
       "      <td>168.352478</td>\n",
       "      <td>108.211488</td>\n",
       "      <td>NaN</td>\n",
       "      <td>NaN</td>\n",
       "      <td>NaN</td>\n",
       "    </tr>\n",
       "  </tbody>\n",
       "</table>\n",
       "<p>8 rows × 39 columns</p>\n",
       "</div>"
      ],
      "text/plain": [
       "         Unnamed: 0         Class          User            X0            Y0  \\\n",
       "count  13500.000000  13500.000000  13500.000000  13500.000000  13500.000000   \n",
       "mean   27296.628370      3.025481      5.777778     52.698144     85.770524   \n",
       "std    15051.282199      1.445896      3.823397     32.676394     40.715829   \n",
       "min        5.000000      1.000000      0.000000    -80.928512    -98.233756   \n",
       "25%    14897.500000      2.000000      2.000000     31.260337     60.571185   \n",
       "50%    25943.000000      3.000000      6.000000     55.336918     87.314804   \n",
       "75%    38387.500000      4.000000      9.000000     75.288905    106.228314   \n",
       "max    56980.000000      5.000000     11.000000    151.586035    168.717458   \n",
       "\n",
       "                 Z0            X1            Y1            Z1            X2  \\\n",
       "count  13500.000000  13500.000000  13500.000000  13500.000000  13500.000000   \n",
       "mean     -31.826014     52.351641     86.272265    -31.711906     52.112129   \n",
       "std       33.898217     32.353705     40.641751     34.163914     33.570688   \n",
       "min     -120.096446   -111.685241    -96.142589   -114.271334   -106.886524   \n",
       "25%      -58.246757     30.917769     62.849522    -59.477546     29.413095   \n",
       "50%      -31.697639     55.415571     88.220022    -31.292537     56.038056   \n",
       "75%       -5.744637     75.038670    109.185672     -4.650574     75.422747   \n",
       "max      113.345119    151.271413    170.209350    104.618115    149.208278   \n",
       "\n",
       "       ...           Z8           X9           Y9           Z9          X10  \\\n",
       "count  ...  5733.000000  4537.000000  4537.000000  4537.000000  2482.000000   \n",
       "mean   ...   -28.776171    57.177513    83.183279   -28.576656    53.669544   \n",
       "std    ...    35.921888    41.614585    43.932179    37.058562    40.719084   \n",
       "min    ...  -114.500502   -83.649652   -39.539982  -112.908778   -80.196289   \n",
       "25%    ...   -59.907133    27.634371    44.872205   -58.906215    14.298679   \n",
       "50%    ...   -27.741830    63.516259    87.992227   -27.794790    62.781569   \n",
       "75%    ...     0.410206    86.090881   126.478059     1.340623    84.088250   \n",
       "max    ...   119.213101   174.054403   167.196644   122.569627   149.486224   \n",
       "\n",
       "               Y10          Z10  X11  Y11  Z11  \n",
       "count  2482.000000  2482.000000  0.0  0.0  0.0  \n",
       "mean     77.761579   -29.641994  NaN  NaN  NaN  \n",
       "std      46.033896    42.029159  NaN  NaN  NaN  \n",
       "min      -2.877761  -103.718071  NaN  NaN  NaN  \n",
       "25%      37.354595   -70.016161  NaN  NaN  NaN  \n",
       "50%      84.955399   -31.392546  NaN  NaN  NaN  \n",
       "75%     121.913529     6.843351  NaN  NaN  NaN  \n",
       "max     168.352478   108.211488  NaN  NaN  NaN  \n",
       "\n",
       "[8 rows x 39 columns]"
      ]
     },
     "execution_count": 1,
     "metadata": {},
     "output_type": "execute_result"
    }
   ],
   "source": [
    "import numpy as np\n",
    "import pandas as pd\n",
    "\n",
    "pd.read_csv('data/train_raw.csv').describe()"
   ]
  },
  {
   "cell_type": "markdown",
   "metadata": {},
   "source": [
    "A separate test set was pre-designated for this classification problem. It contains users 12, 13, and 14. This set was broken off on a user basis because individuals may form postures slightly differently than each other. The test set, therefore, tests the model's ability to classify the posture of a _new_ user."
   ]
  },
  {
   "cell_type": "markdown",
   "metadata": {},
   "source": [
    "<p style=\"font-family: Arial; font-size: 1.4em; font-weight: bold; color: blue;\"> TODO </p> Include some visual representations of the data, and perhaps an image from the original report."
   ]
  },
  {
   "cell_type": "markdown",
   "metadata": {},
   "source": [
    "# Feature engineering and down-selection\n",
    "## Create new features\n",
    "Transform XYZ coordinates into features that are more indicative of a 3D shape. This includes taking the distance from each point to the origin, determining the volume and centroid of the convex hull formed by points in an instance, calculating relative angles between points, and calculating the area of triangles formed by each combination of 3 points in a posture instance. Features with multiple calculations per instance are reduced to the max, min, mean, and std for that type of feature; this makes it so that we have the same number of true features despite posture instances having a varying number of XYZ coordinates.\n",
    "\n",
    "The GeometricFeatures class is built to incorporate as a step in a pipeline starting at raw data, but feature creation time is a bit too long for this to be practical on a dataset of this size."
   ]
  },
  {
   "cell_type": "code",
   "execution_count": 2,
   "metadata": {},
   "outputs": [],
   "source": [
    "from os import path\n",
    "from postures import GeometricFeatures\n",
    "\n",
    "# Smaller training set\n",
    "if not path.exists('data/train.csv'):\n",
    "    df = pd.read_csv('data/train_raw.csv')\n",
    "    GeometricFeatures().fit_transform(df).to_csv('data/train.csv', index = False)"
   ]
  },
  {
   "cell_type": "code",
   "execution_count": 3,
   "metadata": {},
   "outputs": [],
   "source": [
    "# Large training set\n",
    "if not path.exists('data/train_large.csv'):\n",
    "    df = pd.read_csv('data/train_large_raw.csv')\n",
    "    GeometricFeatures().fit_transform(df).to_csv('data/train_large.csv', index = False)"
   ]
  },
  {
   "cell_type": "code",
   "execution_count": 4,
   "metadata": {},
   "outputs": [],
   "source": [
    "# Test set\n",
    "if not path.exists('data/test.csv'):\n",
    "    df = pd.read_csv('data/test_raw.csv')\n",
    "    GeometricFeatures().fit_transform(df).to_csv('data/test.csv', index = False)"
   ]
  },
  {
   "cell_type": "markdown",
   "metadata": {},
   "source": [
    "View processed data for geometrically-derived features"
   ]
  },
  {
   "cell_type": "code",
   "execution_count": 5,
   "metadata": {},
   "outputs": [
    {
     "data": {
      "text/html": [
       "<div>\n",
       "<style scoped>\n",
       "    .dataframe tbody tr th:only-of-type {\n",
       "        vertical-align: middle;\n",
       "    }\n",
       "\n",
       "    .dataframe tbody tr th {\n",
       "        vertical-align: top;\n",
       "    }\n",
       "\n",
       "    .dataframe thead th {\n",
       "        text-align: right;\n",
       "    }\n",
       "</style>\n",
       "<table border=\"1\" class=\"dataframe\">\n",
       "  <thead>\n",
       "    <tr style=\"text-align: right;\">\n",
       "      <th></th>\n",
       "      <th>id</th>\n",
       "      <th>class</th>\n",
       "      <th>user</th>\n",
       "      <th>n_markers</th>\n",
       "      <th>x_mean</th>\n",
       "      <th>x_std</th>\n",
       "      <th>x_min</th>\n",
       "      <th>x_max</th>\n",
       "      <th>y_mean</th>\n",
       "      <th>y_std</th>\n",
       "      <th>...</th>\n",
       "      <th>ang_min</th>\n",
       "      <th>ang_max</th>\n",
       "      <th>area_mean</th>\n",
       "      <th>area_std</th>\n",
       "      <th>area_min</th>\n",
       "      <th>area_max</th>\n",
       "      <th>conv_hull_vol</th>\n",
       "      <th>conv_hull_cx</th>\n",
       "      <th>conv_hull_cy</th>\n",
       "      <th>conv_hull_cz</th>\n",
       "    </tr>\n",
       "  </thead>\n",
       "  <tbody>\n",
       "    <tr>\n",
       "      <th>count</th>\n",
       "      <td>13500.000000</td>\n",
       "      <td>13500.000000</td>\n",
       "      <td>13500.000000</td>\n",
       "      <td>13500.000000</td>\n",
       "      <td>13500.000000</td>\n",
       "      <td>13500.000000</td>\n",
       "      <td>13500.000000</td>\n",
       "      <td>13500.000000</td>\n",
       "      <td>13500.000000</td>\n",
       "      <td>13500.000000</td>\n",
       "      <td>...</td>\n",
       "      <td>13500.000000</td>\n",
       "      <td>13500.000000</td>\n",
       "      <td>13500.000000</td>\n",
       "      <td>13500.000000</td>\n",
       "      <td>13500.000000</td>\n",
       "      <td>13500.000000</td>\n",
       "      <td>1.350000e+04</td>\n",
       "      <td>13500.000000</td>\n",
       "      <td>13500.000000</td>\n",
       "      <td>13500.000000</td>\n",
       "    </tr>\n",
       "    <tr>\n",
       "      <th>mean</th>\n",
       "      <td>27296.628370</td>\n",
       "      <td>3.025481</td>\n",
       "      <td>5.777778</td>\n",
       "      <td>7.826519</td>\n",
       "      <td>51.247539</td>\n",
       "      <td>30.123615</td>\n",
       "      <td>2.219060</td>\n",
       "      <td>93.288206</td>\n",
       "      <td>80.668318</td>\n",
       "      <td>36.758654</td>\n",
       "      <td>...</td>\n",
       "      <td>1.872420</td>\n",
       "      <td>3.024153</td>\n",
       "      <td>3623.656033</td>\n",
       "      <td>1827.232683</td>\n",
       "      <td>802.611350</td>\n",
       "      <td>7067.486140</td>\n",
       "      <td>1.822859e+05</td>\n",
       "      <td>45.216215</td>\n",
       "      <td>70.523444</td>\n",
       "      <td>-30.283510</td>\n",
       "    </tr>\n",
       "    <tr>\n",
       "      <th>std</th>\n",
       "      <td>15051.282199</td>\n",
       "      <td>1.445896</td>\n",
       "      <td>3.823397</td>\n",
       "      <td>1.917432</td>\n",
       "      <td>14.839614</td>\n",
       "      <td>7.922490</td>\n",
       "      <td>22.893672</td>\n",
       "      <td>20.733971</td>\n",
       "      <td>17.564579</td>\n",
       "      <td>11.190715</td>\n",
       "      <td>...</td>\n",
       "      <td>0.263571</td>\n",
       "      <td>0.055370</td>\n",
       "      <td>881.971581</td>\n",
       "      <td>622.010039</td>\n",
       "      <td>345.904671</td>\n",
       "      <td>2201.129666</td>\n",
       "      <td>1.531822e+05</td>\n",
       "      <td>13.015313</td>\n",
       "      <td>17.229727</td>\n",
       "      <td>17.776387</td>\n",
       "    </tr>\n",
       "    <tr>\n",
       "      <th>min</th>\n",
       "      <td>5.000000</td>\n",
       "      <td>1.000000</td>\n",
       "      <td>0.000000</td>\n",
       "      <td>3.000000</td>\n",
       "      <td>-61.898200</td>\n",
       "      <td>1.877600</td>\n",
       "      <td>-121.182100</td>\n",
       "      <td>-27.857600</td>\n",
       "      <td>-50.301800</td>\n",
       "      <td>2.545300</td>\n",
       "      <td>...</td>\n",
       "      <td>0.361600</td>\n",
       "      <td>2.323400</td>\n",
       "      <td>1608.559000</td>\n",
       "      <td>597.788700</td>\n",
       "      <td>14.763400</td>\n",
       "      <td>2548.911200</td>\n",
       "      <td>9.154100e+01</td>\n",
       "      <td>-51.581800</td>\n",
       "      <td>-41.918200</td>\n",
       "      <td>-77.306500</td>\n",
       "    </tr>\n",
       "    <tr>\n",
       "      <th>25%</th>\n",
       "      <td>14897.500000</td>\n",
       "      <td>2.000000</td>\n",
       "      <td>2.000000</td>\n",
       "      <td>6.000000</td>\n",
       "      <td>39.657825</td>\n",
       "      <td>25.134850</td>\n",
       "      <td>-12.995725</td>\n",
       "      <td>78.862675</td>\n",
       "      <td>67.838725</td>\n",
       "      <td>30.728650</td>\n",
       "      <td>...</td>\n",
       "      <td>1.708175</td>\n",
       "      <td>2.977200</td>\n",
       "      <td>2837.848675</td>\n",
       "      <td>1410.366400</td>\n",
       "      <td>554.179975</td>\n",
       "      <td>5785.377075</td>\n",
       "      <td>7.466991e+04</td>\n",
       "      <td>35.828450</td>\n",
       "      <td>58.274775</td>\n",
       "      <td>-42.543250</td>\n",
       "    </tr>\n",
       "    <tr>\n",
       "      <th>50%</th>\n",
       "      <td>25943.000000</td>\n",
       "      <td>3.000000</td>\n",
       "      <td>6.000000</td>\n",
       "      <td>8.000000</td>\n",
       "      <td>52.159600</td>\n",
       "      <td>31.152150</td>\n",
       "      <td>-2.771700</td>\n",
       "      <td>91.763700</td>\n",
       "      <td>81.522250</td>\n",
       "      <td>38.331250</td>\n",
       "      <td>...</td>\n",
       "      <td>1.841200</td>\n",
       "      <td>3.020200</td>\n",
       "      <td>3886.932650</td>\n",
       "      <td>1822.077800</td>\n",
       "      <td>832.972700</td>\n",
       "      <td>7310.103700</td>\n",
       "      <td>1.436213e+05</td>\n",
       "      <td>45.181350</td>\n",
       "      <td>71.055100</td>\n",
       "      <td>-32.173500</td>\n",
       "    </tr>\n",
       "    <tr>\n",
       "      <th>75%</th>\n",
       "      <td>38387.500000</td>\n",
       "      <td>4.000000</td>\n",
       "      <td>9.000000</td>\n",
       "      <td>10.000000</td>\n",
       "      <td>62.215525</td>\n",
       "      <td>34.327275</td>\n",
       "      <td>13.468450</td>\n",
       "      <td>108.600925</td>\n",
       "      <td>94.285750</td>\n",
       "      <td>44.068700</td>\n",
       "      <td>...</td>\n",
       "      <td>1.998125</td>\n",
       "      <td>3.069300</td>\n",
       "      <td>4260.251700</td>\n",
       "      <td>2285.970175</td>\n",
       "      <td>1023.244850</td>\n",
       "      <td>8732.409300</td>\n",
       "      <td>2.304890e+05</td>\n",
       "      <td>55.544100</td>\n",
       "      <td>84.634375</td>\n",
       "      <td>-17.190800</td>\n",
       "    </tr>\n",
       "    <tr>\n",
       "      <th>max</th>\n",
       "      <td>56980.000000</td>\n",
       "      <td>5.000000</td>\n",
       "      <td>11.000000</td>\n",
       "      <td>10.000000</td>\n",
       "      <td>102.433600</td>\n",
       "      <td>69.833700</td>\n",
       "      <td>68.288100</td>\n",
       "      <td>174.054400</td>\n",
       "      <td>136.535400</td>\n",
       "      <td>65.277300</td>\n",
       "      <td>...</td>\n",
       "      <td>2.797300</td>\n",
       "      <td>3.139900</td>\n",
       "      <td>7192.107400</td>\n",
       "      <td>3992.647000</td>\n",
       "      <td>3405.102400</td>\n",
       "      <td>16612.221600</td>\n",
       "      <td>1.435080e+06</td>\n",
       "      <td>88.143700</td>\n",
       "      <td>114.932800</td>\n",
       "      <td>68.334000</td>\n",
       "    </tr>\n",
       "  </tbody>\n",
       "</table>\n",
       "<p>8 rows × 32 columns</p>\n",
       "</div>"
      ],
      "text/plain": [
       "                 id         class          user     n_markers        x_mean  \\\n",
       "count  13500.000000  13500.000000  13500.000000  13500.000000  13500.000000   \n",
       "mean   27296.628370      3.025481      5.777778      7.826519     51.247539   \n",
       "std    15051.282199      1.445896      3.823397      1.917432     14.839614   \n",
       "min        5.000000      1.000000      0.000000      3.000000    -61.898200   \n",
       "25%    14897.500000      2.000000      2.000000      6.000000     39.657825   \n",
       "50%    25943.000000      3.000000      6.000000      8.000000     52.159600   \n",
       "75%    38387.500000      4.000000      9.000000     10.000000     62.215525   \n",
       "max    56980.000000      5.000000     11.000000     10.000000    102.433600   \n",
       "\n",
       "              x_std         x_min         x_max        y_mean         y_std  \\\n",
       "count  13500.000000  13500.000000  13500.000000  13500.000000  13500.000000   \n",
       "mean      30.123615      2.219060     93.288206     80.668318     36.758654   \n",
       "std        7.922490     22.893672     20.733971     17.564579     11.190715   \n",
       "min        1.877600   -121.182100    -27.857600    -50.301800      2.545300   \n",
       "25%       25.134850    -12.995725     78.862675     67.838725     30.728650   \n",
       "50%       31.152150     -2.771700     91.763700     81.522250     38.331250   \n",
       "75%       34.327275     13.468450    108.600925     94.285750     44.068700   \n",
       "max       69.833700     68.288100    174.054400    136.535400     65.277300   \n",
       "\n",
       "       ...       ang_min       ang_max     area_mean      area_std  \\\n",
       "count  ...  13500.000000  13500.000000  13500.000000  13500.000000   \n",
       "mean   ...      1.872420      3.024153   3623.656033   1827.232683   \n",
       "std    ...      0.263571      0.055370    881.971581    622.010039   \n",
       "min    ...      0.361600      2.323400   1608.559000    597.788700   \n",
       "25%    ...      1.708175      2.977200   2837.848675   1410.366400   \n",
       "50%    ...      1.841200      3.020200   3886.932650   1822.077800   \n",
       "75%    ...      1.998125      3.069300   4260.251700   2285.970175   \n",
       "max    ...      2.797300      3.139900   7192.107400   3992.647000   \n",
       "\n",
       "           area_min      area_max  conv_hull_vol  conv_hull_cx  conv_hull_cy  \\\n",
       "count  13500.000000  13500.000000   1.350000e+04  13500.000000  13500.000000   \n",
       "mean     802.611350   7067.486140   1.822859e+05     45.216215     70.523444   \n",
       "std      345.904671   2201.129666   1.531822e+05     13.015313     17.229727   \n",
       "min       14.763400   2548.911200   9.154100e+01    -51.581800    -41.918200   \n",
       "25%      554.179975   5785.377075   7.466991e+04     35.828450     58.274775   \n",
       "50%      832.972700   7310.103700   1.436213e+05     45.181350     71.055100   \n",
       "75%     1023.244850   8732.409300   2.304890e+05     55.544100     84.634375   \n",
       "max     3405.102400  16612.221600   1.435080e+06     88.143700    114.932800   \n",
       "\n",
       "       conv_hull_cz  \n",
       "count  13500.000000  \n",
       "mean     -30.283510  \n",
       "std       17.776387  \n",
       "min      -77.306500  \n",
       "25%      -42.543250  \n",
       "50%      -32.173500  \n",
       "75%      -17.190800  \n",
       "max       68.334000  \n",
       "\n",
       "[8 rows x 32 columns]"
      ]
     },
     "execution_count": 5,
     "metadata": {},
     "output_type": "execute_result"
    }
   ],
   "source": [
    "df = pd.read_csv('data/train.csv')\n",
    "df.describe()"
   ]
  },
  {
   "cell_type": "markdown",
   "metadata": {},
   "source": [
    "## Assess feature importance\n",
    "Use a random forest classifier to assess most valuable features. Plot importances and std of importances from all trees in the forest."
   ]
  },
  {
   "cell_type": "code",
   "execution_count": 39,
   "metadata": {},
   "outputs": [
    {
     "data": {
      "text/plain": [
       "RandomForestClassifier(n_estimators=200, random_state=0)"
      ]
     },
     "execution_count": 39,
     "metadata": {},
     "output_type": "execute_result"
    }
   ],
   "source": [
    "from sklearn.ensemble import RandomForestClassifier\n",
    "\n",
    "df = pd.read_csv('data/train.csv')\n",
    "X_train = df.iloc[:, 3:].values\n",
    "y_train = df['class'].values\n",
    "user_labels = df['user'].values\n",
    "\n",
    "forest = RandomForestClassifier(n_estimators=200, random_state=0)\n",
    "forest.fit(X_train, y_train)"
   ]
  },
  {
   "cell_type": "code",
   "execution_count": 37,
   "metadata": {},
   "outputs": [
    {
     "data": {
      "image/png": "[encoded data removed]",
      "text/plain": [
       "<Figure size 1080x360 with 1 Axes>"
      ]
     },
     "metadata": {
      "needs_background": "light"
     },
     "output_type": "display_data"
    }
   ],
   "source": [
    "import matplotlib.pyplot as plt\n",
    "\n",
    "importances = forest.feature_importances_\n",
    "std = np.std([tree.feature_importances_ for tree in forest.estimators_], axis=0)\n",
    "feature_indices = np.argsort(importances)[::-1]\n",
    "\n",
    "# Get feature names from indices\n",
    "headers = list(df.columns.values)\n",
    "feature_names = headers[3:]\n",
    "features_ranked = [feature_names[index] for index in feature_indices]\n",
    "\n",
    "# Plot importances\n",
    "plt.figure(figsize=(15,5))\n",
    "plt.title(\"Feature importances\")\n",
    "plt.bar(range(X.shape[1]), importances[feature_indices], yerr=std[indices])\n",
    "plt.xticks(range(X.shape[1]), features_ranked, rotation=60)\n",
    "plt.show()"
   ]
  },
  {
   "cell_type": "markdown",
   "metadata": {},
   "source": [
    "We see that the feature importances have a very high std, indicating that the importance of features varies significantly from tree to tree. Ideally we would not see such a high std (especially in our \"most important\" features), but the average importance in the forest is telling nonetheless.\n",
    "\n",
    "We also see that the most important features are from our geometrically-derived set! l_max and l_std, which relate to the distance between each point and the origin; area_max, which corresponds to the greatest triangle area formed by any three points in the instance; two features related to the convex hull."
   ]
  },
  {
   "cell_type": "markdown",
   "metadata": {},
   "source": [
    "## Down-select features\n",
    "The plot of feature importances above indicates which features are most useful for a Random Forest, but we can down-select with more intelligence than picking some number of \"best features.\" Here we'll down-select by choosing an ideal subset of features by evaluating performance with an SGD classifier.\n",
    "\n",
    "The SGD classifier was chosen for speed during this evaluation, but it's results were very comparable to the same analysis done using SVC and Random Forests. For sake of simplistic documentation in this notebook, only the SGD set is shown. Note that this feature set is _optimal_ for SGD and _not_ as optimal for other classifiers, but the results from this study are comparable and effectivly reduce the dataset's dimensionality."
   ]
  },
  {
   "cell_type": "markdown",
   "metadata": {},
   "source": [
    "### Full feature set performance with SGD\n",
    "Just as the test set was derived on the basis of grouping users, we'll cross-validate using leave-one-group-out."
   ]
  },
  {
   "cell_type": "code",
   "execution_count": 200,
   "metadata": {},
   "outputs": [],
   "source": [
    "from sklearn.preprocessing import StandardScaler\n",
    "\n",
    "scaler = StandardScaler()\n",
    "X_train_scaled = scaler.fit_transform(X_train)"
   ]
  },
  {
   "cell_type": "code",
   "execution_count": 203,
   "metadata": {},
   "outputs": [
    {
     "name": "stdout",
     "output_type": "stream",
     "text": [
      "9 splits\n"
     ]
    }
   ],
   "source": [
    "from sklearn.model_selection import LeaveOneGroupOut\n",
    "from sklearn.model_selection import cross_val_score\n",
    "\n",
    "logo = LeaveOneGroupOut()\n",
    "n_splits = logo.get_n_splits(X_train_scaled, y_train, user_labels)\n",
    "print(n_splits, \"splits\")\n",
    "\n",
    "cv_splits = logo.split(X_train_scaled, y_train, user_labels)"
   ]
  },
  {
   "cell_type": "code",
   "execution_count": 204,
   "metadata": {},
   "outputs": [
    {
     "data": {
      "text/plain": [
       "array([0.87      , 0.93733333, 0.80133333, 1.        , 0.96466667,\n",
       "       0.94466667, 0.81533333, 0.79      , 0.97266667])"
      ]
     },
     "execution_count": 204,
     "metadata": {},
     "output_type": "execute_result"
    }
   ],
   "source": [
    "from sklearn.linear_model import SGDClassifier\n",
    "\n",
    "sgd = SGDClassifier(random_state=0)\n",
    "sgd_scores = cross_val_score(sgd, X_train_scaled, y_train, cv=cv_splits, scoring='accuracy')\n",
    "sgd_scores"
   ]
  },
  {
   "cell_type": "markdown",
   "metadata": {},
   "source": [
    "### Reduce to optimal number of features for SGD classifier"
   ]
  },
  {
   "cell_type": "code",
   "execution_count": 212,
   "metadata": {
    "scrolled": false
   },
   "outputs": [
    {
     "name": "stdout",
     "output_type": "stream",
     "text": [
      "Optimal number of features : 10\n"
     ]
    }
   ],
   "source": [
    "from sklearn.feature_selection import RFECV\n",
    "\n",
    "sgd = SGDClassifier(random_state=0)\n",
    "cv_splits = logo.split(X_train_scaled, y_train, user_labels)\n",
    "\n",
    "rfecv = RFECV(estimator=sgd, step=1, cv=cv_splits, scoring='accuracy')\n",
    "rfecv.fit(X_train_scaled, y_train)\n",
    "\n",
    "print(\"Optimal number of features : %d\" % rfecv.n_features_)"
   ]
  },
  {
   "cell_type": "code",
   "execution_count": 213,
   "metadata": {},
   "outputs": [
    {
     "data": {
      "image/png": "[encoded data removed]",
      "text/plain": [
       "<Figure size 432x288 with 1 Axes>"
      ]
     },
     "metadata": {
      "needs_background": "light"
     },
     "output_type": "display_data"
    }
   ],
   "source": [
    "plt.figure()\n",
    "plt.title('SGD feature selection')\n",
    "plt.xlabel('Number of features selected')\n",
    "plt.ylabel('X-val score')\n",
    "plt.plot(range(1, len(rfecv.grid_scores_) + 1), rfecv.grid_scores_)\n",
    "plt.show()"
   ]
  },
  {
   "cell_type": "markdown",
   "metadata": {},
   "source": [
    "Show SGD-chosen features on original plot of RandomForest-determined most important features."
   ]
  },
  {
   "cell_type": "code",
   "execution_count": 217,
   "metadata": {
    "scrolled": false
   },
   "outputs": [
    {
     "data": {
      "image/png": "[encoded data removed]",
      "text/plain": [
       "<Figure size 1080x360 with 1 Axes>"
      ]
     },
     "metadata": {
      "needs_background": "light"
     },
     "output_type": "display_data"
    }
   ],
   "source": [
    "col = np.array(['C0' if x == True else 'r' for x in rfecv.support_])\n",
    "\n",
    "plt.figure(figsize=(15,5))\n",
    "plt.title('Feature importances (as determined by random forest)')\n",
    "plt.bar(range(X.shape[1]), importances[feature_indices], yerr=std[indices], color=col[feature_indices])\n",
    "plt.xticks(range(X.shape[1]), features_ranked, rotation=60)\n",
    "plt.show()"
   ]
  },
  {
   "cell_type": "markdown",
   "metadata": {},
   "source": [
    "Notice that some features that were highly important in the forest were not chosen here. This could be due to the high std of the importance of these features, i.e. they were very useful in some forests but not in others; this indicates that more consistent features could generalize better to non-forest classifiers, as is clearly the case for the SGD classifier."
   ]
  },
  {
   "cell_type": "markdown",
   "metadata": {},
   "source": [
    "### Compare feature sets"
   ]
  },
  {
   "cell_type": "code",
   "execution_count": 225,
   "metadata": {},
   "outputs": [
    {
     "data": {
      "image/png": "[encoded data removed]",
      "text/plain": [
       "<Figure size 576x288 with 1 Axes>"
      ]
     },
     "metadata": {
      "needs_background": "light"
     },
     "output_type": "display_data"
    }
   ],
   "source": [
    "X_train_reduced = X_train_scaled[:, rfecv.support_]\n",
    "\n",
    "sgd = SGDClassifier(random_state=0)\n",
    "cv_splits = logo.split(X_train_reduced, y_train, user_labels)\n",
    "sgd_scores_reduced = cross_val_score(sgd, X_train_reduced, y_train, cv=cv_splits, scoring='accuracy')\n",
    "\n",
    "plt.figure(figsize=(8, 4))\n",
    "plt.plot([1]*n_splits, sgd_scores, '.')\n",
    "plt.plot([2]*n_splits, sgd_scores_reduced, '.')\n",
    "plt.boxplot([sgd_scores, sgd_scores_reduced],\n",
    "            labels=('Full feature set' + '\\n (' + str(X.shape[1]) + ' features)',\n",
    "                    'Reduced feature set' + '\\n (' + str(X_train_reduced.shape[1]) + ' features)'))\n",
    "plt.title('LOGO X-val Scores (SGD Classifier)', fontsize=14)\n",
    "plt.ylabel('Accuracy', fontsize=14)\n",
    "plt.show()"
   ]
  },
  {
   "cell_type": "markdown",
   "metadata": {},
   "source": [
    "The plot above shows the beneficial impact of reducing the number of features in the dataset. With leave-one-group-out (LOGO) cross-validation, we see that the SGD classifier is more consistently accurate with an optimal subset of features. Not only that, but future models will train and evaluate faster now that we have only 1/3 the original number of features."
   ]
  },
  {
   "cell_type": "markdown",
   "metadata": {},
   "source": [
    "# Classifier Optimization"
   ]
  }
 ],
 "metadata": {
  "kernelspec": {
   "display_name": "Python 3",
   "language": "python",
   "name": "python3"
  },
  "language_info": {
   "codemirror_mode": {
    "name": "ipython",
    "version": 3
   },
   "file_extension": ".py",
   "mimetype": "text/x-python",
   "name": "python",
   "nbconvert_exporter": "python",
   "pygments_lexer": "ipython3",
   "version": "3.7.1"
  }
 },
 "nbformat": 4,
 "nbformat_minor": 2
}
